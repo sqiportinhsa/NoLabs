{
 "cells": [
  {
   "cell_type": "code",
   "execution_count": 3,
   "id": "91159f0b",
   "metadata": {},
   "outputs": [],
   "source": [
    "import matplotlib.pyplot as plt\n",
    "import csv"
   ]
  },
  {
   "cell_type": "code",
   "execution_count": 6,
   "id": "9493b531",
   "metadata": {},
   "outputs": [
    {
     "ename": "TypeError",
     "evalue": "'delimeter' is an invalid keyword argument for this function",
     "output_type": "error",
     "traceback": [
      "\u001b[0;31m---------------------------------------------------------------------------\u001b[0m",
      "\u001b[0;31mTypeError\u001b[0m                                 Traceback (most recent call last)",
      "\u001b[0;32m/tmp/ipykernel_108542/566917526.py\u001b[0m in \u001b[0;36m<module>\u001b[0;34m\u001b[0m\n\u001b[1;32m      8\u001b[0m \u001b[0;34m\u001b[0m\u001b[0m\n\u001b[1;32m      9\u001b[0m \u001b[0;32mwith\u001b[0m \u001b[0mopen\u001b[0m\u001b[0;34m(\u001b[0m\u001b[0;34m\"testing/data/bench2.txt\"\u001b[0m\u001b[0;34m)\u001b[0m \u001b[0;32mas\u001b[0m \u001b[0mcsvfile\u001b[0m\u001b[0;34m:\u001b[0m\u001b[0;34m\u001b[0m\u001b[0;34m\u001b[0m\u001b[0m\n\u001b[0;32m---> 10\u001b[0;31m     \u001b[0mdata\u001b[0m \u001b[0;34m=\u001b[0m \u001b[0mcsv\u001b[0m\u001b[0;34m.\u001b[0m\u001b[0mreader\u001b[0m\u001b[0;34m(\u001b[0m\u001b[0mcsvfile\u001b[0m\u001b[0;34m,\u001b[0m \u001b[0mdelimeter\u001b[0m\u001b[0;34m=\u001b[0m\u001b[0;34m','\u001b[0m\u001b[0;34m)\u001b[0m\u001b[0;34m\u001b[0m\u001b[0;34m\u001b[0m\u001b[0m\n\u001b[0m\u001b[1;32m     11\u001b[0m \u001b[0;34m\u001b[0m\u001b[0m\n\u001b[1;32m     12\u001b[0m     \u001b[0;32mfor\u001b[0m \u001b[0mrow\u001b[0m \u001b[0;32min\u001b[0m \u001b[0mdata\u001b[0m\u001b[0;34m:\u001b[0m\u001b[0;34m\u001b[0m\u001b[0;34m\u001b[0m\u001b[0m\n",
      "\u001b[0;31mTypeError\u001b[0m: 'delimeter' is an invalid keyword argument for this function"
     ]
    }
   ],
   "source": [
    "ran_x = []\n",
    "ran_y = []\n",
    "cen_x = []\n",
    "cen_y = []\n",
    "med_x = []\n",
    "med_y = []\n",
    "\n",
    "\n",
    "with open(\"testing/data/bench2.txt\") as csvfile:\n",
    "    data = csv.reader(csvfile, delimiter=',')\n",
    "    \n",
    "    for row in data:\n",
    "        x = int(row[1])\n",
    "        y = (int(row[2]) + int(row[3]) + int(row[4]) + int(row[5]) + int(row[6])) / 5\n",
    "        \n",
    "        if (row[0] == \"Random pivot qsort\"):\n",
    "            ran_x.append(x)\n",
    "            ran_y.append(y)\n",
    "        elif (row[0] == \"Central pivot qsort\"):\n",
    "            cen_x.append(x)\n",
    "            cen_y.append(y)\n",
    "        elif (row[0] == \"Median pivot qsort\"):\n",
    "            med_x.append(x)\n",
    "            med_y.append(y)"
   ]
  }
 ],
 "metadata": {
  "kernelspec": {
   "display_name": "Python 3 (ipykernel)",
   "language": "python",
   "name": "python3"
  },
  "language_info": {
   "codemirror_mode": {
    "name": "ipython",
    "version": 3
   },
   "file_extension": ".py",
   "mimetype": "text/x-python",
   "name": "python",
   "nbconvert_exporter": "python",
   "pygments_lexer": "ipython3",
   "version": "3.10.6"
  }
 },
 "nbformat": 4,
 "nbformat_minor": 5
}
